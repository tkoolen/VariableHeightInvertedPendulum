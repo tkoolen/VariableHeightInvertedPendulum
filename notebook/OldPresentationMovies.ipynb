{
 "cells": [
  {
   "cell_type": "code",
   "execution_count": 1,
   "metadata": {
    "collapsed": false
   },
   "outputs": [],
   "source": [
    "push!(LOAD_PATH, \"../src\")\n",
    "using VariableHeightInvertedPendulum\n",
    "using Polynomials"
   ]
  },
  {
   "cell_type": "code",
   "execution_count": 2,
   "metadata": {
    "collapsed": false
   },
   "outputs": [
    {
     "data": {
      "text/plain": [
       "1.0"
      ]
     },
     "execution_count": 2,
     "metadata": {},
     "output_type": "execute_result"
    }
   ],
   "source": [
    "# Parameters\n",
    "g = 9.8\n",
    "x0 = -0.3\n",
    "z0 = 1.\n",
    "zd0 = 0.\n",
    "zf = 1."
   ]
  },
  {
   "cell_type": "code",
   "execution_count": 3,
   "metadata": {
    "collapsed": false
   },
   "outputs": [],
   "source": [
    "orbital_energies = Dict(\"Eo_negative\" => -0.1, \"Eo_zero\" => 0., \"Eo_positive\" => 0.1);"
   ]
  },
  {
   "cell_type": "code",
   "execution_count": 4,
   "metadata": {
    "collapsed": false
   },
   "outputs": [],
   "source": [
    "models = []\n",
    "lipm = LIPM(\"lipm\", g, zf)\n",
    "push!(models, lipm)\n",
    "# push!(models, PolynomialVariableHeightModel(\"slope\", g, Poly([zf, 0.2])))\n",
    "push!(models, PolynomialVariableHeightModel(\"variable_height\", g, Poly([zf, 0.2, 0.5])));\n",
    "\n",
    "scenarios = Scenario[]\n",
    "for model in models\n",
    "    for kv in orbital_energies\n",
    "        scenario_name = first(kv)\n",
    "        Eo = last(kv)\n",
    "        xd0 = velocity_given_orbital_energy(model, x0, Eo)\n",
    "        initial_conditions = [x0; xd0]\n",
    "        scenario = Scenario(scenario_name, model, initial_conditions)\n",
    "        push!(scenarios, scenario)\n",
    "    end\n",
    "end"
   ]
  },
  {
   "cell_type": "code",
   "execution_count": 5,
   "metadata": {
    "collapsed": true
   },
   "outputs": [],
   "source": [
    "# for scenario in scenarios\n",
    "#     run_scenario(scenario)\n",
    "# end"
   ]
  },
  {
   "cell_type": "code",
   "execution_count": 6,
   "metadata": {
    "collapsed": false
   },
   "outputs": [
    {
     "data": {
      "text/plain": [
       "run_solved_trajectory (generic function with 1 method)"
      ]
     },
     "execution_count": 6,
     "metadata": {},
     "output_type": "execute_result"
    }
   ],
   "source": [
    "function run_solved_trajectory(name, x0, z0, xd0, zd0; kwargs...)\n",
    "    traj = zero_orbital_energy_trajectory(x0, z0, xd0, zd0, g, zf)\n",
    "    trajectory_solved_model = PolynomialVariableHeightModel(\"trajectory_solved\", g, traj)\n",
    "    sim_movie(Scenario(name, trajectory_solved_model, [x0; xd0]); restrict_ztraj = true, kwargs...)\n",
    "end"
   ]
  },
  {
   "cell_type": "code",
   "execution_count": 7,
   "metadata": {
    "collapsed": false
   },
   "outputs": [],
   "source": [
    "run_solved_trajectory(\"too_fast\", x0, z0, 1.3, zd0; simtime = 1.5)"
   ]
  },
  {
   "cell_type": "code",
   "execution_count": 8,
   "metadata": {
    "collapsed": false
   },
   "outputs": [],
   "source": [
    "run_solved_trajectory(\"fast_w_region\", x0, z0, 1., zd0; show_region = true)"
   ]
  },
  {
   "cell_type": "code",
   "execution_count": 9,
   "metadata": {
    "collapsed": false
   },
   "outputs": [],
   "source": [
    "run_solved_trajectory(\"too_slow_w_region\", x0, z0, 0.8, zd0; show_region = true)"
   ]
  },
  {
   "cell_type": "code",
   "execution_count": 12,
   "metadata": {
    "collapsed": false
   },
   "outputs": [],
   "source": [
    "# Variable height at same initial conditions that are too slow for LIPM\n",
    "Eo = -0.04\n",
    "xd0 = velocity_given_orbital_energy(lipm, x0, Eo)\n",
    "kwargs = [(:model_only, true), (:simtime, 1.5), (:show_orbital_energy, false), (:stilltime, 1.), (:fig_size, (4., 3.))]\n",
    "sim_movie(Scenario(\"comparison\", lipm, [x0; xd0]); kwargs...)\n",
    "run_solved_trajectory(\"comparison\", x0, z0, xd0, zd0; kwargs...)"
   ]
  },
  {
   "cell_type": "code",
   "execution_count": 13,
   "metadata": {
    "collapsed": false
   },
   "outputs": [],
   "source": [
    "run_solved_trajectory(\"step_up\", -0.5, 0.5, 2.5, 0.)"
   ]
  },
  {
   "cell_type": "code",
   "execution_count": null,
   "metadata": {
    "collapsed": true
   },
   "outputs": [],
   "source": []
  }
 ],
 "metadata": {
  "kernelspec": {
   "display_name": "Julia 0.5.0",
   "language": "julia",
   "name": "julia-0.5"
  },
  "language_info": {
   "file_extension": ".jl",
   "mimetype": "application/julia",
   "name": "julia",
   "version": "0.5.0"
  }
 },
 "nbformat": 4,
 "nbformat_minor": 0
}
