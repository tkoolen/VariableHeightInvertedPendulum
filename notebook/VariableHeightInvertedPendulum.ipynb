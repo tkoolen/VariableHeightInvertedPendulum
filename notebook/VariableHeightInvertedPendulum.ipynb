{
 "cells": [
  {
   "cell_type": "code",
   "execution_count": 1,
   "metadata": {
    "collapsed": false
   },
   "outputs": [
    {
     "name": "stderr",
     "output_type": "stream",
     "text": [
      "/usr/local/lib/python2.7/site-packages/matplotlib/font_manager.py:273: UserWarning: Matplotlib is building the font cache using fc-list. This may take a moment.\n",
      "  warnings.warn('Matplotlib is building the font cache using fc-list. This may take a moment.')\n"
     ]
    }
   ],
   "source": [
    "push!(LOAD_PATH, \"../src\")\n",
    "using VariableHeightInvertedPendulum\n",
    "using PyCall\n",
    "using PyPlot\n",
    "using Polynomials\n",
    "# using ODE"
   ]
  },
  {
   "cell_type": "code",
   "execution_count": 2,
   "metadata": {
    "collapsed": false
   },
   "outputs": [],
   "source": [
    "# models = [LIPM(9.8, 1.); PolynomialVariableHeightModel(9.8, Poly([1., 0.2]))]\n",
    "models = [PolynomialVariableHeightModel(9.8, Poly([1., 0.2, 0.5]))];"
   ]
  },
  {
   "cell_type": "code",
   "execution_count": 3,
   "metadata": {
    "collapsed": false
   },
   "outputs": [],
   "source": [
    "test = false\n",
    "orbital_energies = test ? Dict(\"negative\" => 0.) : Dict(\"negative\" => -0.1, \"zero\" => 0., \"positive\" => 0.1)\n",
    "\n",
    "initial_conditions = Dict{Scenario, Vector{Float64}}()\n",
    "x0 = -0.3\n",
    "for model in models\n",
    "    for kv in orbital_energies\n",
    "        scenario = Scenario(first(kv), model)\n",
    "        Eo = last(kv)\n",
    "        xd0 = velocity_given_orbital_energy(model, x0, Eo)\n",
    "        initial_conditions[scenario] = [x0; xd0]\n",
    "    end\n",
    "end"
   ]
  },
  {
   "cell_type": "code",
   "execution_count": 4,
   "metadata": {
    "collapsed": false
   },
   "outputs": [],
   "source": [
    "for kv in initial_conditions\n",
    "    scenario = first(kv)\n",
    "    model = scenario.model\n",
    "    state0 = last(kv)\n",
    "    sim_movie(model, state0, \"$(typeof(model))_E_$(scenario.name).mp4\"; test = test)\n",
    "end"
   ]
  },
  {
   "cell_type": "code",
   "execution_count": 5,
   "metadata": {
    "collapsed": false
   },
   "outputs": [],
   "source": [
    "# display_mp4(\"lipm_E_negative.mp4\")"
   ]
  },
  {
   "cell_type": "code",
   "execution_count": null,
   "metadata": {
    "collapsed": true
   },
   "outputs": [],
   "source": []
  }
 ],
 "metadata": {
  "kernelspec": {
   "display_name": "Julia 0.4.5",
   "language": "julia",
   "name": "julia-0.4"
  },
  "language_info": {
   "file_extension": ".jl",
   "mimetype": "application/julia",
   "name": "julia",
   "version": "0.4.5"
  }
 },
 "nbformat": 4,
 "nbformat_minor": 0
}
