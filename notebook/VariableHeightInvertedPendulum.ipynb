{
 "cells": [
  {
   "cell_type": "code",
   "execution_count": 1,
   "metadata": {
    "collapsed": false
   },
   "outputs": [
    {
     "name": "stderr",
     "output_type": "stream",
     "text": [
      "/usr/local/lib/python2.7/site-packages/matplotlib/font_manager.py:273: UserWarning: Matplotlib is building the font cache using fc-list. This may take a moment.\n",
      "  warnings.warn('Matplotlib is building the font cache using fc-list. This may take a moment.')\n"
     ]
    }
   ],
   "source": [
    "push!(LOAD_PATH, \"../src\")\n",
    "using VariableHeightInvertedPendulum\n",
    "using PyCall\n",
    "using PyPlot\n",
    "using Polynomials\n",
    "using ForwardDiff\n",
    "# using ODE"
   ]
  },
  {
   "cell_type": "code",
   "execution_count": 2,
   "metadata": {
    "collapsed": false
   },
   "outputs": [],
   "source": [
    "test = false\n",
    "g = 9.8\n",
    "x0 = -0.3\n",
    "z0 = 1.\n",
    "zd0 = 0.\n",
    "zf = 1.\n",
    "orbital_energies = test ? Dict(\"Eo_negative\" => 0.) : Dict(\"Eo_negative\" => -0.1, \"Eo_zero\" => 0., \"Eo_positive\" => 0.1);"
   ]
  },
  {
   "cell_type": "code",
   "execution_count": 3,
   "metadata": {
    "collapsed": false
   },
   "outputs": [
    {
     "data": {
      "text/plain": [
       "run_scenario (generic function with 1 method)"
      ]
     },
     "execution_count": 3,
     "metadata": {},
     "output_type": "execute_result"
    }
   ],
   "source": [
    "function run_scenario(scenario::Scenario; kwargs...)\n",
    "    filename = \"$(scenario.model.name)_$(scenario.name).mp4\"\n",
    "    sim_movie(scenario.model, scenario.initial_conditions, filename; test = test, kwargs...)\n",
    "end"
   ]
  },
  {
   "cell_type": "code",
   "execution_count": 4,
   "metadata": {
    "collapsed": false
   },
   "outputs": [],
   "source": [
    "models = []\n",
    "push!(models, LIPM(\"lipm\", g, zf))\n",
    "push!(models, PolynomialVariableHeightModel(\"slope\", g, Poly([zf, 0.2])))\n",
    "push!(models, PolynomialVariableHeightModel(\"variable_height\", g, Poly([zf, 0.2, 0.5])));\n",
    "\n",
    "scenarios = Scenario[]\n",
    "for model in models\n",
    "    for kv in orbital_energies\n",
    "        scenario_name = first(kv)\n",
    "        Eo = last(kv)\n",
    "        xd0 = velocity_given_orbital_energy(model, x0, Eo)\n",
    "        initial_conditions = [x0; xd0]\n",
    "        scenario = Scenario(scenario_name, model, initial_conditions)\n",
    "        push!(scenarios, scenario)\n",
    "    end\n",
    "end"
   ]
  },
  {
   "cell_type": "code",
   "execution_count": 5,
   "metadata": {
    "collapsed": false
   },
   "outputs": [],
   "source": [
    "for scenario in scenarios\n",
    "    run_scenario(scenario)\n",
    "end"
   ]
  },
  {
   "cell_type": "code",
   "execution_count": 6,
   "metadata": {
    "collapsed": false
   },
   "outputs": [
    {
     "data": {
      "text/plain": [
       "run_solved_trajectory (generic function with 1 method)"
      ]
     },
     "execution_count": 6,
     "metadata": {},
     "output_type": "execute_result"
    }
   ],
   "source": [
    "function run_solved_trajectory(name, xd0; kwargs...)\n",
    "    traj = zero_orbital_energy_trajectory(x0, z0, xd0, zd0, g, zf)\n",
    "    trajectory_solved_model = PolynomialVariableHeightModel(\"trajectory_solved\", g, traj)\n",
    "    run_scenario(Scenario(name, trajectory_solved_model, [x0; xd0]); restrict_ztraj = true, kwargs...)\n",
    "end"
   ]
  },
  {
   "cell_type": "code",
   "execution_count": 7,
   "metadata": {
    "collapsed": false
   },
   "outputs": [],
   "source": [
    "run_solved_trajectory(\"fast\", 1.)\n",
    "run_solved_trajectory(\"slow\", 0.9)\n",
    "run_solved_trajectory(\"too_slow\", 0.8)"
   ]
  },
  {
   "cell_type": "code",
   "execution_count": 8,
   "metadata": {
    "collapsed": false
   },
   "outputs": [],
   "source": [
    "run_solved_trajectory(\"fast_w_region\", 1.; show_region = true)\n",
    "run_solved_trajectory(\"too_slow_w_region\", 0.8; show_region = true)"
   ]
  },
  {
   "cell_type": "code",
   "execution_count": null,
   "metadata": {
    "collapsed": true
   },
   "outputs": [],
   "source": []
  }
 ],
 "metadata": {
  "kernelspec": {
   "display_name": "Julia 0.4.5",
   "language": "julia",
   "name": "julia-0.4"
  },
  "language_info": {
   "file_extension": ".jl",
   "mimetype": "application/julia",
   "name": "julia",
   "version": "0.4.5"
  }
 },
 "nbformat": 4,
 "nbformat_minor": 0
}
