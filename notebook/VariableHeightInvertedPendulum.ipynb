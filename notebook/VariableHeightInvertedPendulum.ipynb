{
 "cells": [
  {
   "cell_type": "code",
   "execution_count": 1,
   "metadata": {
    "collapsed": false
   },
   "outputs": [
    {
     "name": "stderr",
     "output_type": "stream",
     "text": [
      "INFO: Recompiling stale cache file /Users/twan/code/julia/VariableHeightInvertedPendulum.jl/packages/lib/v0.4/PyCall.ji for module PyCall.\n",
      "INFO: Recompiling stale cache file /Users/twan/code/julia/VariableHeightInvertedPendulum.jl/packages/lib/v0.4/Conda.ji for module Conda.\n",
      "INFO: Recompiling stale cache file /Users/twan/code/julia/VariableHeightInvertedPendulum.jl/packages/lib/v0.4/BinDeps.ji for module BinDeps.\n",
      "INFO: Recompiling stale cache file /Users/twan/code/julia/VariableHeightInvertedPendulum.jl/packages/lib/v0.4/SHA.ji for module SHA.\n",
      "INFO: Recompiling stale cache file /Users/twan/code/julia/VariableHeightInvertedPendulum.jl/packages/lib/v0.4/LaTeXStrings.ji for module LaTeXStrings.\n",
      "INFO: Recompiling stale cache file /Users/twan/code/julia/VariableHeightInvertedPendulum.jl/packages/lib/v0.4/PyPlot.ji for module PyPlot.\n",
      "INFO: Recompiling stale cache file /Users/twan/code/julia/VariableHeightInvertedPendulum.jl/packages/lib/v0.4/Colors.ji for module Colors.\n",
      "INFO: Recompiling stale cache file /Users/twan/code/julia/VariableHeightInvertedPendulum.jl/packages/lib/v0.4/FixedPointNumbers.ji for module FixedPointNumbers.\n",
      "INFO: Recompiling stale cache file /Users/twan/code/julia/VariableHeightInvertedPendulum.jl/packages/lib/v0.4/ColorTypes.ji for module ColorTypes.\n",
      "/usr/local/lib/python2.7/site-packages/matplotlib/font_manager.py:273: UserWarning: Matplotlib is building the font cache using fc-list. This may take a moment.\n",
      "  warnings.warn('Matplotlib is building the font cache using fc-list. This may take a moment.')\n",
      "INFO: Recompiling stale cache file /Users/twan/code/julia/VariableHeightInvertedPendulum.jl/packages/lib/v0.4/ForwardDiff.ji for module ForwardDiff.\n",
      "INFO: Recompiling stale cache file /Users/twan/code/julia/VariableHeightInvertedPendulum.jl/packages/lib/v0.4/Calculus.ji for module Calculus.\n"
     ]
    }
   ],
   "source": [
    "push!(LOAD_PATH, \"../src\")\n",
    "using VariableHeightInvertedPendulum\n",
    "using PyCall\n",
    "using PyPlot\n",
    "using Polynomials\n",
    "using ForwardDiff\n",
    "# using ODE"
   ]
  },
  {
   "cell_type": "code",
   "execution_count": 2,
   "metadata": {
    "collapsed": false
   },
   "outputs": [],
   "source": [
    "test = false\n",
    "g = 9.8\n",
    "x0 = -0.3\n",
    "z0 = 1.\n",
    "zd0 = 0.\n",
    "zf = 1.\n",
    "orbital_energies = test ? Dict(\"Eo_negative\" => 0.) : Dict(\"Eo_negative\" => -0.1, \"Eo_zero\" => 0., \"Eo_positive\" => 0.1);"
   ]
  },
  {
   "cell_type": "code",
   "execution_count": 3,
   "metadata": {
    "collapsed": false
   },
   "outputs": [
    {
     "data": {
      "text/plain": [
       "run_scenario (generic function with 1 method)"
      ]
     },
     "execution_count": 3,
     "metadata": {},
     "output_type": "execute_result"
    }
   ],
   "source": [
    "function run_scenario(scenario::Scenario; kwargs...)\n",
    "    filename = \"/Users/twan/Documents/MIT/presentations/160626 dynamic walking/video/$(scenario.model.name)_$(scenario.name).mp4\"\n",
    "    sim_movie(scenario.model, scenario.initial_conditions, filename; test = test, kwargs...)\n",
    "end"
   ]
  },
  {
   "cell_type": "code",
   "execution_count": 4,
   "metadata": {
    "collapsed": false
   },
   "outputs": [],
   "source": [
    "models = []\n",
    "lipm = LIPM(\"lipm\", g, zf)\n",
    "push!(models, lipm)\n",
    "# push!(models, PolynomialVariableHeightModel(\"slope\", g, Poly([zf, 0.2])))\n",
    "push!(models, PolynomialVariableHeightModel(\"variable_height\", g, Poly([zf, 0.2, 0.5])));\n",
    "\n",
    "scenarios = Scenario[]\n",
    "for model in models\n",
    "    for kv in orbital_energies\n",
    "        scenario_name = first(kv)\n",
    "        Eo = last(kv)\n",
    "        xd0 = velocity_given_orbital_energy(model, x0, Eo)\n",
    "        initial_conditions = [x0; xd0]\n",
    "        scenario = Scenario(scenario_name, model, initial_conditions)\n",
    "        push!(scenarios, scenario)\n",
    "    end\n",
    "end"
   ]
  },
  {
   "cell_type": "code",
   "execution_count": 5,
   "metadata": {
    "collapsed": false
   },
   "outputs": [
    {
     "data": {
      "text/plain": [
       "run_solved_trajectory (generic function with 1 method)"
      ]
     },
     "execution_count": 5,
     "metadata": {},
     "output_type": "execute_result"
    }
   ],
   "source": [
    "function run_solved_trajectory(name, x0, z0, xd0, zd0; kwargs...)\n",
    "    traj = zero_orbital_energy_trajectory(x0, z0, xd0, zd0, g, zf)\n",
    "    trajectory_solved_model = PolynomialVariableHeightModel(\"trajectory_solved\", g, traj)\n",
    "    run_scenario(Scenario(name, trajectory_solved_model, [x0; xd0]); restrict_ztraj = true, kwargs...)\n",
    "end"
   ]
  },
  {
   "cell_type": "code",
   "execution_count": 6,
   "metadata": {
    "collapsed": false
   },
   "outputs": [
    {
     "ename": "LoadError",
     "evalue": "LoadError: PyError (:PyObject_Call) <type 'exceptions.IOError'>\nIOError(32, 'Broken pipe')\n  File \"/usr/local/lib/python2.7/site-packages/matplotlib/animation.py\", line 230, in grab_frame\n    dpi=self.dpi, **savefig_kwargs)\n  File \"/usr/local/lib/python2.7/site-packages/matplotlib/figure.py\", line 1565, in savefig\n    self.canvas.print_figure(*args, **kwargs)\n  File \"/usr/local/lib/python2.7/site-packages/matplotlib/backend_bases.py\", line 2232, in print_figure\n    **kwargs)\n  File \"/usr/local/lib/python2.7/site-packages/matplotlib/backends/backend_agg.py\", line 519, in print_raw\n    fileobj.write(renderer._renderer.buffer_rgba())\n\nwhile loading In[6], in expression starting on line 1",
     "output_type": "error",
     "traceback": [
      "LoadError: PyError (:PyObject_Call) <type 'exceptions.IOError'>\nIOError(32, 'Broken pipe')\n  File \"/usr/local/lib/python2.7/site-packages/matplotlib/animation.py\", line 230, in grab_frame\n    dpi=self.dpi, **savefig_kwargs)\n  File \"/usr/local/lib/python2.7/site-packages/matplotlib/figure.py\", line 1565, in savefig\n    self.canvas.print_figure(*args, **kwargs)\n  File \"/usr/local/lib/python2.7/site-packages/matplotlib/backend_bases.py\", line 2232, in print_figure\n    **kwargs)\n  File \"/usr/local/lib/python2.7/site-packages/matplotlib/backends/backend_agg.py\", line 519, in print_raw\n    fileobj.write(renderer._renderer.buffer_rgba())\n\nwhile loading In[6], in expression starting on line 1",
      "",
      " [inlined code] from /Users/twan/code/julia/VariableHeightInvertedPendulum.jl/packages/v0.4/PyCall/src/exception.jl:81",
      " in pycall at /Users/twan/code/julia/VariableHeightInvertedPendulum.jl/packages/v0.4/PyCall/src/PyCall.jl:463",
      " in call at /Users/twan/code/julia/VariableHeightInvertedPendulum.jl/packages/v0.4/PyCall/src/PyCall.jl:479",
      " in sim_movie at /Users/twan/code/julia/VariableHeightInvertedPendulum.jl/src/sim_movie.jl:234",
      " in run_scenario at In[3]:3",
      " [inlined code] from In[6]:2",
      " in anonymous at no file:0"
     ]
    }
   ],
   "source": [
    "for scenario in scenarios\n",
    "    run_scenario(scenario)\n",
    "end"
   ]
  },
  {
   "cell_type": "code",
   "execution_count": 7,
   "metadata": {
    "collapsed": false
   },
   "outputs": [],
   "source": [
    "run_solved_trajectory(\"fast\", x0, z0, 1., zd0)\n",
    "run_solved_trajectory(\"slow\", x0, z0, 0.9, zd0)\n",
    "run_solved_trajectory(\"too_slow\", x0, z0, 0.8, zd0)"
   ]
  },
  {
   "cell_type": "code",
   "execution_count": 8,
   "metadata": {
    "collapsed": false
   },
   "outputs": [],
   "source": [
    "run_solved_trajectory(\"fast_w_region\", x0, z0, 1., zd0; show_region = true)\n",
    "run_solved_trajectory(\"too_slow_w_region\", x0, z0, 0.8, zd0; show_region = true)"
   ]
  },
  {
   "cell_type": "code",
   "execution_count": 7,
   "metadata": {
    "collapsed": false
   },
   "outputs": [
    {
     "ename": "LoadError",
     "evalue": "LoadError: PyError (:PyObject_Call) <type 'exceptions.IOError'>\nIOError(32, 'Broken pipe')\n  File \"/usr/local/lib/python2.7/site-packages/matplotlib/animation.py\", line 230, in grab_frame\n    dpi=self.dpi, **savefig_kwargs)\n  File \"/usr/local/lib/python2.7/site-packages/matplotlib/figure.py\", line 1565, in savefig\n    self.canvas.print_figure(*args, **kwargs)\n  File \"/usr/local/lib/python2.7/site-packages/matplotlib/backend_bases.py\", line 2232, in print_figure\n    **kwargs)\n  File \"/usr/local/lib/python2.7/site-packages/matplotlib/backends/backend_agg.py\", line 519, in print_raw\n    fileobj.write(renderer._renderer.buffer_rgba())\n\nwhile loading In[7], in expression starting on line 5",
     "output_type": "error",
     "traceback": [
      "LoadError: PyError (:PyObject_Call) <type 'exceptions.IOError'>\nIOError(32, 'Broken pipe')\n  File \"/usr/local/lib/python2.7/site-packages/matplotlib/animation.py\", line 230, in grab_frame\n    dpi=self.dpi, **savefig_kwargs)\n  File \"/usr/local/lib/python2.7/site-packages/matplotlib/figure.py\", line 1565, in savefig\n    self.canvas.print_figure(*args, **kwargs)\n  File \"/usr/local/lib/python2.7/site-packages/matplotlib/backend_bases.py\", line 2232, in print_figure\n    **kwargs)\n  File \"/usr/local/lib/python2.7/site-packages/matplotlib/backends/backend_agg.py\", line 519, in print_raw\n    fileobj.write(renderer._renderer.buffer_rgba())\n\nwhile loading In[7], in expression starting on line 5",
      "",
      " [inlined code] from /Users/twan/code/julia/VariableHeightInvertedPendulum.jl/packages/v0.4/PyCall/src/exception.jl:81",
      " in pycall at /Users/twan/code/julia/VariableHeightInvertedPendulum.jl/packages/v0.4/PyCall/src/PyCall.jl:463",
      " in call at /Users/twan/code/julia/VariableHeightInvertedPendulum.jl/packages/v0.4/PyCall/src/PyCall.jl:479",
      " in sim_movie at /Users/twan/code/julia/VariableHeightInvertedPendulum.jl/src/sim_movie.jl:234",
      " in run_scenario at In[3]:3",
      " in anonymous at no file"
     ]
    }
   ],
   "source": [
    "# Variable height at same initial conditions that are too slow for LIPM\n",
    "Eo = -0.04\n",
    "xd0 = velocity_given_orbital_energy(lipm, x0, Eo)\n",
    "kwargs = [(:model_only, true), (:simtime, 1.5), (:show_orbital_energy, false), (:stilltime, 1.), (:fig_size, (4., 3.))]\n",
    "run_scenario(Scenario(\"comparison\", lipm, [x0; xd0]); kwargs...)\n",
    "run_solved_trajectory(\"comparison\", x0, z0, xd0, zd0; kwargs...)"
   ]
  },
  {
   "cell_type": "code",
   "execution_count": 12,
   "metadata": {
    "collapsed": false
   },
   "outputs": [
    {
     "ename": "LoadError",
     "evalue": "LoadError: PyError (:PyObject_Call) <type 'exceptions.IOError'>\nIOError(32, 'Broken pipe')\n  File \"/usr/local/lib/python2.7/site-packages/matplotlib/animation.py\", line 230, in grab_frame\n    dpi=self.dpi, **savefig_kwargs)\n  File \"/usr/local/lib/python2.7/site-packages/matplotlib/figure.py\", line 1565, in savefig\n    self.canvas.print_figure(*args, **kwargs)\n  File \"/usr/local/lib/python2.7/site-packages/matplotlib/backend_bases.py\", line 2232, in print_figure\n    **kwargs)\n  File \"/usr/local/lib/python2.7/site-packages/matplotlib/backends/backend_agg.py\", line 519, in print_raw\n    fileobj.write(renderer._renderer.buffer_rgba())\n\nwhile loading In[12], in expression starting on line 1",
     "output_type": "error",
     "traceback": [
      "LoadError: PyError (:PyObject_Call) <type 'exceptions.IOError'>\nIOError(32, 'Broken pipe')\n  File \"/usr/local/lib/python2.7/site-packages/matplotlib/animation.py\", line 230, in grab_frame\n    dpi=self.dpi, **savefig_kwargs)\n  File \"/usr/local/lib/python2.7/site-packages/matplotlib/figure.py\", line 1565, in savefig\n    self.canvas.print_figure(*args, **kwargs)\n  File \"/usr/local/lib/python2.7/site-packages/matplotlib/backend_bases.py\", line 2232, in print_figure\n    **kwargs)\n  File \"/usr/local/lib/python2.7/site-packages/matplotlib/backends/backend_agg.py\", line 519, in print_raw\n    fileobj.write(renderer._renderer.buffer_rgba())\n\nwhile loading In[12], in expression starting on line 1",
      "",
      " [inlined code] from /Users/twan/code/julia/VariableHeightInvertedPendulum.jl/packages/v0.4/PyCall/src/exception.jl:81",
      " in pycall at /Users/twan/code/julia/VariableHeightInvertedPendulum.jl/packages/v0.4/PyCall/src/PyCall.jl:463",
      " in call at /Users/twan/code/julia/VariableHeightInvertedPendulum.jl/packages/v0.4/PyCall/src/PyCall.jl:479",
      " in sim_movie at /Users/twan/code/julia/VariableHeightInvertedPendulum.jl/src/sim_movie.jl:234",
      " in run_scenario at In[3]:3",
      " in run_solved_trajectory at In[8]:4"
     ]
    }
   ],
   "source": [
    "run_solved_trajectory(\"step_up\", -0.5, 0.5, 1.8, 0.)"
   ]
  },
  {
   "cell_type": "code",
   "execution_count": null,
   "metadata": {
    "collapsed": false
   },
   "outputs": [
    {
     "name": "stderr",
     "output_type": "stream",
     "text": [
      "INFO: Updating METADATA...\n",
      "INFO: Updating cache of Compat...\n",
      "INFO: Updating cache of JSON...\n",
      "INFO: Computing changes...\n",
      "INFO: Upgrading Compat: v0.7.18 => v0.7.20\n",
      "INFO: Upgrading JSON: v0.5.0 => v0.5.1\n"
     ]
    }
   ],
   "source": [
    "Pkg.update()"
   ]
  },
  {
   "cell_type": "code",
   "execution_count": null,
   "metadata": {
    "collapsed": true
   },
   "outputs": [],
   "source": []
  }
 ],
 "metadata": {
  "kernelspec": {
   "display_name": "Julia 0.4.5",
   "language": "julia",
   "name": "julia-0.4"
  },
  "language_info": {
   "file_extension": ".jl",
   "mimetype": "application/julia",
   "name": "julia",
   "version": "0.4.5"
  }
 },
 "nbformat": 4,
 "nbformat_minor": 0
}
